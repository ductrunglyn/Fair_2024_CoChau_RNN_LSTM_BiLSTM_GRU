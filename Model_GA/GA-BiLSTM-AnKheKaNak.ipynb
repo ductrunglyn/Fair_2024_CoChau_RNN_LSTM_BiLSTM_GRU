{
 "cells": [
  {
   "cell_type": "markdown",
   "metadata": {},
   "source": [
    "# Import thư viện\n"
   ]
  },
  {
   "cell_type": "code",
   "execution_count": null,
   "metadata": {},
   "outputs": [],
   "source": [
    "import pandas as pd\n",
    "import numpy as np\n",
    "from sklearn.preprocessing import MinMaxScaler\n",
    "from keras.optimizers import Adam\n",
    "from keras.models import Sequential\n",
    "import random\n",
    "from deap import base, creator, tools, algorithms\n",
    "from keras.layers import LSTM, Dense, Dropout, Bidirectional\n",
    "from sklearn.metrics import mean_absolute_error, mean_squared_error, r2_score\n",
    "from math import sqrt\n",
    "import matplotlib.pyplot as plt\n",
    "from keras.callbacks import EarlyStopping, ModelCheckpoint"
   ]
  },
  {
   "cell_type": "markdown",
   "metadata": {},
   "source": [
    "# Đọc dữ liệu"
   ]
  },
  {
   "cell_type": "code",
   "execution_count": null,
   "metadata": {},
   "outputs": [],
   "source": [
    "# Đọc dữ liệu vào DataFrame\n",
    "df = pd.read_csv(r'E:\\CoChau\\Fair_2024_LSTM_GA-LSTM_BiLSTM_GA-BiLSTM\\Code\\data\\data_t_2\\TongMua_KaNak_AnKhe_t-2.csv')\n",
    "\n",
    "# Xử lý dữ liệu bị thiếu\n",
    "df = df.dropna()\n",
    "\n",
    "df.head(5)"
   ]
  },
  {
   "cell_type": "markdown",
   "metadata": {},
   "source": [
    "# Tạo dữ liệu huấn luyện"
   ]
  },
  {
   "cell_type": "code",
   "execution_count": null,
   "metadata": {},
   "outputs": [],
   "source": [
    "# Tạo dữ liệu huấn luyện\n",
    "def create_dataset(X, y, n_steps):\n",
    "    Xs, ys = [], []\n",
    "    for i in range(len(X) - n_steps):\n",
    "        Xs.append(X[i:i+n_steps])\n",
    "        ys.append(y[i+n_steps])\n",
    "\n",
    "    return np.array(Xs), np.array(ys)"
   ]
  },
  {
   "cell_type": "markdown",
   "metadata": {},
   "source": [
    "# Chuẩn hóa và chia bộ dữ liệu cho mô hình LSTM"
   ]
  },
  {
   "cell_type": "code",
   "execution_count": null,
   "metadata": {},
   "outputs": [],
   "source": [
    "def split_data(df, window_size):\n",
    "    # Chuẩn hóa dữ liệu\n",
    "    scaler = MinMaxScaler()\n",
    "    X = df[['Tổng lưu lượng xả (m³/s)[Thực tế]', 'Lưu lượng đến hồ (m³/s)', 'Sum_Mua']]\n",
    "    y = df[['Lưu lượng đến hồ (m³/s)']]\n",
    "    X = scaler.fit_transform(X)\n",
    "    y = scaler.fit_transform(y)\n",
    "\n",
    "    # Tạo nhãn cho dữ liệu\n",
    "    window_size = 24 * window_size\n",
    "    X_data, y_data = create_dataset(X, y, window_size)\n",
    "\n",
    "    # Chia dữ liệu thành tập huấn luyện, kiểm tra và test\n",
    "    train_length = int(len(X) * 0.7)\n",
    "    val_length = int((len(X) - train_length) / 2)\n",
    "\n",
    "    X_train, y_train = X_data[:train_length], y_data[:train_length]\n",
    "    X_val, y_val = X_data[train_length:train_length+val_length], y_data[train_length:train_length+val_length]\n",
    "    X_test, y_test = X_data[-val_length:], y_data[-val_length:]\n",
    "\n",
    "    # Reshape dữ liệu đầu vào\n",
    "    X_train = X_train.reshape(X_train.shape[0], window_size, X_train.shape[2])\n",
    "    X_val = X_val.reshape(X_val.shape[0], window_size, X_val.shape[2])\n",
    "    X_test = X_test.reshape(X_test.shape[0], window_size, X_test.shape[2])\n",
    "\n",
    "    return X_train, y_train, X_val, y_val, X_test, y_test"
   ]
  },
  {
   "cell_type": "markdown",
   "metadata": {},
   "source": [
    "# Xây dựng mô hình GA - LSTM"
   ]
  },
  {
   "cell_type": "markdown",
   "metadata": {},
   "source": [
    "### Áp dụng GA để chọn ra cá thể tốt nhất"
   ]
  },
  {
   "cell_type": "code",
   "execution_count": null,
   "metadata": {},
   "outputs": [],
   "source": [
    "def model_lstm(input_shape, units):\n",
    "    # Xây dựng mô hình LSTM\n",
    "    model = Sequential()\n",
    "    model.add(Bidirectional(LSTM(units, input_shape=input_shape, activation='tanh', return_sequences=False)))\n",
    "    model.add(Dropout(0.5))\n",
    "    model.add(Dense(1))\n",
    "\n",
    "    return model"
   ]
  },
  {
   "cell_type": "code",
   "execution_count": null,
   "metadata": {},
   "outputs": [],
   "source": [
    "def objective_function(units, window_size, model_checkpoint=None, early_stopping=None, epochs=1):\n",
    "    # Tách dữ liệu\n",
    "    X_train, y_train, X_val, y_val, _, _ = split_data(df, window_size)\n",
    "\n",
    "    # Mô hình LSTM\n",
    "    input_shape = (X_train.shape[1], X_train.shape[2])\n",
    "    model = model_lstm(input_shape, units)\n",
    "\n",
    "    # Compile mô hình\n",
    "    model.compile(optimizer=Adam(learning_rate=1e-3), loss='mean_squared_error')\n",
    "\n",
    "    # Thiết lập callbacks\n",
    "    callbacks = []\n",
    "    if early_stopping:\n",
    "        callbacks.append(early_stopping)\n",
    "    if model_checkpoint:\n",
    "        callbacks.append(model_checkpoint)\n",
    "\n",
    "    # Huấn luyện mô hình\n",
    "    history = model.fit(X_train, y_train, \n",
    "                        epochs=epochs,\n",
    "                        batch_size=24,\n",
    "                        validation_data=(X_val, y_val),\n",
    "                        verbose=1,\n",
    "                        callbacks=callbacks)\n",
    "    \n",
    "    # Hàm mục tiêu\n",
    "    val_loss = np.min(history.history['val_loss'])\n",
    "\n",
    "    return val_loss, model, history\n",
    "\n",
    "# Hàm đánh giá cá thể trong quần thể\n",
    "def evaluate(individual):\n",
    "    units = individual[0]\n",
    "    window_size = individual[1]\n",
    "\n",
    "    early_stopping = EarlyStopping(monitor='val_loss', patience=10, verbose=1, mode='min', restore_best_weights=True)\n",
    "    val_loss, _, _ = objective_function(units, window_size, model_checkpoint=None, early_stopping=early_stopping, epochs=300)\n",
    "\n",
    "    return val_loss,\n",
    "\n",
    "# Định nghĩa hàm tạo cá thể trong quần thể\n",
    "def create_population(n, units_func, window_size_func):\n",
    "    return [creator.Individual([units_func(), window_size_func()]) for _ in range(n)]\n",
    "\n",
    "# Khởi tạo hàm mục tiêu\n",
    "creator.create(\"FitnessMin\", base.Fitness, weights=(-1.0,))\n",
    "creator.create(\"Individual\", list, fitness=creator.FitnessMin)\n",
    "\n",
    "# Khởi tạo toolbox\n",
    "toolbox = base.Toolbox()\n",
    "toolbox.register(\"units\", random.choice, [16, 32, 64, 128])  # Giới hạn cho số units\n",
    "toolbox.register(\"window_size\", random.randint, 1, 7)  # Giới hạn cho window size\n",
    "toolbox.register(\"individual\", tools.initCycle, creator.Individual, (toolbox.units, toolbox.window_size), n=1)\n",
    "toolbox.register(\"population\", create_population, units_func=toolbox.units, window_size_func=toolbox.window_size)\n",
    "\n",
    "# Đăng ký các toán tử lai ghép và đột biến\n",
    "toolbox.register(\"mate\", tools.cxTwoPoint)\n",
    "toolbox.register(\"mutate\", tools.mutUniformInt, low=[16, 1], up=[128, 7], indpb=0.15)\n",
    "toolbox.register(\"select\", tools.selTournament, tournsize=3)\n",
    "toolbox.register(\"evaluate\", evaluate)\n",
    "\n",
    "\n",
    "# Số lượng quần thể ban đầu\n",
    "num_populations = 4\n",
    "# Số lượng cá thể trong quần thể ban đầu\n",
    "individuals = 10\n",
    "\n",
    "# Tạo quần thể ban đầu\n",
    "populations = []\n",
    "for i in range(num_populations):\n",
    "    population = create_population(individuals, units_func=toolbox.units, window_size_func=toolbox.window_size)\n",
    "    populations.append(population)\n",
    "    print(f\"Quần thể {i + 1} ban đầu:\")\n",
    "    for j, ind in enumerate(population):\n",
    "        print(f\"Cá thể thứ {j}: {ind}\")\n",
    "    print()\n",
    "\n",
    "# Đánh giá fitness và chọn lọc cá thể tốt nhất cho mỗi quần thể ban đầu\n",
    "best_individuals = []\n",
    "for population in populations:\n",
    "    fits = toolbox.map(toolbox.evaluate, population)\n",
    "    for fit, ind in zip(fits, population):\n",
    "        ind.fitness.values = fit\n",
    "    best_ind = min(population, key=lambda ind: ind.fitness.values)\n",
    "    best_individuals.append(best_ind)\n",
    "    print(f\"Cá thể tốt nhất trong quần thể thứ {populations.index(population) + 1}: {best_ind} ban đầu\")\n",
    "print()\n",
    "\n",
    "print(\"Bắt đầu quá trình lai ghép và đột biến...\")\n",
    "print()\n",
    "\n",
    "# Quá trình lai ghép và đột biến\n",
    "num_generations = 2\n",
    "for gen in range(num_generations):\n",
    "    # Tạo quần thể con bằng cách lai ghép và đột biến từ các cá thể tốt nhất\n",
    "    offspring = algorithms.varAnd(best_individuals, toolbox, cxpb=0.7, mutpb=0.15)\n",
    "    # offspring = algorithms.varAnd(best_individuals, toolbox, mutpb=0.15)\n",
    "    print(f\"Quần thể con F{gen + 1} đã được tiến hóa:\")\n",
    "    for i, ind in enumerate(offspring):\n",
    "        print(f\"Cá thể thứ {i}: {ind}\")\n",
    "\n",
    "    # Đánh giá fitness của quần thể con\n",
    "    fits = toolbox.map(toolbox.evaluate, offspring)\n",
    "    for fit, ind in zip(fits, offspring):\n",
    "        ind.fitness.values = fit\n",
    "    best_ind = min(offspring, key=lambda ind: ind.fitness.values)\n",
    "    best_individuals.append(best_ind)\n",
    "    print(f\"Cá thể tốt nhất trong quần thể con F{gen + 1}: {best_ind}\")\n",
    "\n",
    "    # Chọn lọc cá thể để tạo quần thể mới cho thế hệ tiếp theo\n",
    "    best_individuals = toolbox.select(offspring, k=len(best_individuals))\n",
    "    print()\n",
    "\n",
    "# In ra cá thể tốt nhất cuối cùng\n",
    "best_ind = min(best_individuals, key=lambda ind: ind.fitness.values)\n",
    "print(\"Cá thể tốt nhất cuối cùng:\")\n",
    "print(best_ind)"
   ]
  },
  {
   "cell_type": "markdown",
   "metadata": {},
   "source": [
    "### Training mô hình với cá thể tốt nhất"
   ]
  },
  {
   "cell_type": "code",
   "execution_count": null,
   "metadata": {},
   "outputs": [],
   "source": [
    "# Lấy tham số từ cá thể tốt nhất\n",
    "units = best_ind[0]\n",
    "window_size = best_ind[1]\n",
    "\n",
    "# Chia dữ liệu\n",
    "X_train, y_train, X_val, y_val, X_test, y_test = split_data(df, window_size=window_size)\n",
    "print(\"Kích thước tập huấn luyện:\", len(X_train))\n",
    "print(\"Kích thước tập validation:\", len(X_val))\n",
    "print(\"Kích thước tập kiểm tra:\", len(X_test))"
   ]
  },
  {
   "cell_type": "code",
   "execution_count": null,
   "metadata": {},
   "outputs": [],
   "source": [
    "# Lưu lại model tốt nhất\n",
    "best_model = './best_model/Model_GA-BiLSTM.hdf5'\n",
    "model_checkpoint = ModelCheckpoint(best_model, save_best_only=True, monitor='val_loss', mode='min', verbose=1)\n",
    "\n",
    "# Mô hình LSTM với tham số tốt nhất\n",
    "_, model, history = objective_function(units, window_size, \n",
    "                                       model_checkpoint=model_checkpoint, early_stopping=None, \n",
    "                                       epochs=300)"
   ]
  },
  {
   "cell_type": "code",
   "execution_count": null,
   "metadata": {},
   "outputs": [],
   "source": [
    "# Trích xuất giá trị loss trên tập huấn luyện và kiểm tra\n",
    "train_loss = history.history['loss']\n",
    "val_loss = history.history['val_loss']\n",
    "\n",
    "# Lấy số lượng epoch\n",
    "epochs = range(1, len(train_loss) + 1)\n",
    "\n",
    "# Vẽ biểu đồ\n",
    "plt.plot(train_loss, marker='.', linestyle='-')\n",
    "plt.plot(val_loss, marker='', linestyle='-')\n",
    "plt.xlabel('Epoch')\n",
    "plt.ylabel('Validation Loss')\n",
    "plt.title('Validation Loss over Epochs')\n",
    "plt.yscale('log')  # Scale y-axis to logarithmic scale\n",
    "plt.show()"
   ]
  },
  {
   "cell_type": "markdown",
   "metadata": {},
   "source": [
    "# Dự đoán trên tập kiểm tra và tính toán các chỉ số"
   ]
  },
  {
   "cell_type": "code",
   "execution_count": null,
   "metadata": {},
   "outputs": [],
   "source": [
    "# Dự đoán trên tập validation\n",
    "y_pred = model.predict(X_test)\n",
    "\n",
    "# Calculate evaluation metrics\n",
    "mse_test = mean_squared_error(y_test, y_pred)\n",
    "mae_test = mean_absolute_error(y_test, y_pred)\n",
    "r2_test = r2_score(y_test, y_pred)\n",
    "rmse_test = sqrt(mse_test)\n",
    "rmae_test = sqrt(mae_test)\n",
    "\n",
    "# Print evaluation results\n",
    "print(\"Mean Squared Error (MSE) on test set:\", mse_test)\n",
    "print(\"Mean Absolute Error (MAE) on test set:\", mae_test)\n",
    "print(\"R-squared (R2) on test set:\", r2_test)\n",
    "print(\"Root Mean Squared Error (RMSE) on test set:\", rmse_test)\n",
    "print(\"Root Mean Absolute Error (RMAE) on test set:\", rmae_test)"
   ]
  },
  {
   "cell_type": "markdown",
   "metadata": {},
   "source": [
    "# Hiển thị biểu đồ kết quả"
   ]
  },
  {
   "cell_type": "code",
   "execution_count": null,
   "metadata": {},
   "outputs": [],
   "source": [
    "# Chuẩn hóa dữ liệu\n",
    "scaler = MinMaxScaler()\n",
    "X = df[['Tổng lưu lượng xả (m³/s)[Thực tế]', 'Lưu lượng đến hồ (m³/s)', 'Sum_Mua']]\n",
    "y = df[['Lưu lượng đến hồ (m³/s)']]\n",
    "X = scaler.fit_transform(X)\n",
    "y = scaler.fit_transform(y)\n",
    "\n",
    "# Tạo nhãn cho dữ liệu\n",
    "X_data, y_data = create_dataset(X, y, window_size)\n",
    "\n",
    "# Chia dữ liệu thành tập huấn luyện, kiểm tra và test\n",
    "train_length = int(len(X) * 0.7)\n",
    "val_length = int((len(X) - train_length) / 2)\n",
    "\n",
    "X_train, y_train = X_data[:train_length], y_data[:train_length]\n",
    "X_test, y_test = X_data[-val_length:], y_data[-val_length:]\n",
    "\n",
    "# Reshape dữ liệu đầu vào\n",
    "X_train = X_train.reshape(X_train.shape[0], window_size, X_train.shape[2])\n",
    "X_test = X_test.reshape(X_test.shape[0], window_size, X_test.shape[2])"
   ]
  },
  {
   "cell_type": "code",
   "execution_count": null,
   "metadata": {},
   "outputs": [],
   "source": [
    "X_train"
   ]
  },
  {
   "cell_type": "code",
   "execution_count": null,
   "metadata": {},
   "outputs": [],
   "source": [
    "# Khôi phục dữ liệu sau chuẩn hóa\n",
    "y_pred_predict = scaler.inverse_transform(y_pred)\n",
    "y_pred_predict = pd.DataFrame(y_pred_predict)\n",
    "\n",
    "y_test = scaler.inverse_transform(y_test)\n",
    "y_test = pd.DataFrame(y_test)"
   ]
  },
  {
   "cell_type": "code",
   "execution_count": null,
   "metadata": {},
   "outputs": [],
   "source": [
    "import matplotlib.pyplot as plt\n",
    "\n",
    "# Vẽ biểu đồ dữ liệu gốc\n",
    "plt.figure(figsize=(10, 6))\n",
    "\n",
    "plt.plot(df['thoi_gian_KaNak'], df['Tổng lưu lượng xả (m³/s)[Thực tế]'], label='Tổng lưu lượng xả')\n",
    "plt.plot(df['thoi_gian_KaNak'], df['Lưu lượng đến hồ (m³/s)'], label='Lưu lượng đến hồ')\n",
    "plt.plot(df['thoi_gian_KaNak'], df['Sum_Mua'], label='Tổng lượng mưa')\n",
    "\n",
    "plt.xlabel('Thời gian')\n",
    "plt.ylabel('Lưu lượng (m³/s)')\n",
    "plt.title('Biểu đồ lưu lượng')\n",
    "plt.legend()\n",
    "\n",
    "plt.show()"
   ]
  },
  {
   "cell_type": "code",
   "execution_count": null,
   "metadata": {},
   "outputs": [],
   "source": [
    "# Biểu đồ giá trị dự đoán và thực tế trên tập test\n",
    "plt.figure(figsize=(10, 6))\n",
    "plt.plot(y_test, label='Lưu lượng đến hồ thực tế')\n",
    "plt.plot(y_pred_predict, label='Lưu lượng đến hồ dự đoán')\n",
    "plt.xlabel('Thời gian')\n",
    "plt.ylabel('Lưu lượng đến hồ (m³/s)')\n",
    "plt.title('So sánh giá trị dự đoán và giá trị thực tế trên tập kiểm tra')\n",
    "plt.legend()\n",
    "plt.show()"
   ]
  },
  {
   "cell_type": "code",
   "execution_count": null,
   "metadata": {},
   "outputs": [],
   "source": [
    "# Biểu đồ giá trị dự đoán và giá trị thực tế ở điểm bất thường trên tập test\n",
    "plt.plot(y_test, label='Lưu lượng đến hồ thực tế')\n",
    "plt.plot(y_pred_predict, label='Lưu lượng đến hồ dự đoán')\n",
    "plt.xlabel('Thời gian')\n",
    "plt.ylabel('Lưu lượng đến hồ (m³/s)')\n",
    "plt.title('So sánh giá trị dự đoán và giá trị thực tế trên tập kiểm tra')\n",
    "plt.legend()\n",
    "\n",
    "# Chỉ hiển thị một đoạn nhỏ của biểu đồ\n",
    "start_index = 0\n",
    "end_index = 1000\n",
    "plt.xlim(start_index, end_index)\n",
    "\n",
    "plt.show()"
   ]
  },
  {
   "cell_type": "code",
   "execution_count": null,
   "metadata": {},
   "outputs": [],
   "source": [
    "X_data_slipt = X_train[15290:17980]\n",
    "y_data_slipt = y_train[15290:17980]\n",
    "\n",
    "# Dự đoán trên đoạn dữ liệu chỉ định\n",
    "y_data_slipt_predict = model.predict(X_data_slipt)\n",
    "\n",
    "# Khôi phục dữ liệu sau chuẩn hóa\n",
    "y_data_slipt_predict = scaler.inverse_transform(y_data_slipt_predict)\n",
    "y_data_slipt_predict = pd.DataFrame(y_data_slipt_predict)\n",
    "\n",
    "y_data_slipt = scaler.inverse_transform(y_data_slipt)\n",
    "y_data_slipt = pd.DataFrame(y_data_slipt)\n",
    "\n",
    "\n",
    "# Biểu đồ giá trị dự đoán và giá trị thực tế trên đoạn dữ liệu gốc bất kỳ\n",
    "plt.figure(figsize=(10, 6))\n",
    "plt.plot(y_data_slipt, label='Lưu lượng đến hồ thực tế')\n",
    "plt.plot(y_data_slipt_predict, label='Lưu lượng đến hồ dự đoán')\n",
    "plt.xlabel('Thời gian')\n",
    "plt.ylabel('Lưu lượng đến hồ (m³/s)')\n",
    "plt.title('So sánh giá trị dự đoán và giá trị thực tế trên tập kiểm tra')\n",
    "plt.legend()\n",
    "plt.show()"
   ]
  }
 ],
 "metadata": {
  "kernelspec": {
   "display_name": "Python 3",
   "language": "python",
   "name": "python3"
  },
  "language_info": {
   "codemirror_mode": {
    "name": "ipython",
    "version": 3
   },
   "file_extension": ".py",
   "mimetype": "text/x-python",
   "name": "python",
   "nbconvert_exporter": "python",
   "pygments_lexer": "ipython3",
   "version": "3.9.10"
  }
 },
 "nbformat": 4,
 "nbformat_minor": 2
}
