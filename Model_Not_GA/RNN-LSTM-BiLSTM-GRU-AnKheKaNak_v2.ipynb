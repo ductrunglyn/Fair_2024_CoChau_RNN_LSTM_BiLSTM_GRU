{
 "cells": [
  {
   "cell_type": "markdown",
   "metadata": {},
   "source": [
    "# Import thư viện\n"
   ]
  },
  {
   "cell_type": "code",
   "execution_count": null,
   "metadata": {},
   "outputs": [],
   "source": [
    "import pandas as pd\n",
    "import numpy as np\n",
    "from sklearn.preprocessing import MinMaxScaler\n",
    "from keras.optimizers import Adam\n",
    "from keras.models import Sequential\n",
    "from keras.layers import LSTM, Dense, Dropout, SimpleRNN, GRU, Bidirectional\n",
    "from sklearn.metrics import mean_absolute_error, mean_squared_error, r2_score\n",
    "from math import sqrt\n",
    "from keras.callbacks import ModelCheckpoint"
   ]
  },
  {
   "cell_type": "markdown",
   "metadata": {},
   "source": [
    "# Đọc dữ liệu"
   ]
  },
  {
   "cell_type": "code",
   "execution_count": null,
   "metadata": {},
   "outputs": [],
   "source": [
    "# Đọc dữ liệu vào DataFrame\n",
    "df_t_2 = pd.read_csv(r'E:\\CoChau\\Fair_2024_LSTM_GA-LSTM_BiLSTM_GA-BiLSTM\\Code\\data\\data_t_2\\TongMua_KaNak_AnKhe_t-2.csv')\n",
    "df_t_4 = pd.read_csv(r'E:\\CoChau\\Fair_2024_LSTM_GA-LSTM_BiLSTM_GA-BiLSTM\\Code\\data\\data_t_4\\TongMua_KaNak_AnKhe_t-4.csv')\n",
    "df_t_6 = pd.read_csv(r'E:\\CoChau\\Fair_2024_LSTM_GA-LSTM_BiLSTM_GA-BiLSTM\\Code\\data\\data_t_6\\TongMua_KaNak_AnKhe_t-6.csv')\n",
    "\n",
    "# Xử lý dữ liệu bị thiếu\n",
    "df_t_2 = df_t_2.dropna()\n",
    "df_t_4 = df_t_4.dropna()\n",
    "df_t_6 = df_t_6.dropna()"
   ]
  },
  {
   "cell_type": "markdown",
   "metadata": {},
   "source": [
    "# Tạo dữ liệu huấn luyện"
   ]
  },
  {
   "cell_type": "code",
   "execution_count": null,
   "metadata": {},
   "outputs": [],
   "source": [
    "def create_dataset(X, y, n_steps=1):\n",
    "    Xs, ys = [], []\n",
    "    for i in range(len(X) - n_steps):\n",
    "        Xs.append(X[i:i+n_steps])\n",
    "        ys.append(y[i+n_steps])\n",
    "    return np.array(Xs), np.array(ys)"
   ]
  },
  {
   "cell_type": "markdown",
   "metadata": {},
   "source": [
    "# Chuẩn hóa và chia bộ dữ liệu cho mô hình"
   ]
  },
  {
   "cell_type": "code",
   "execution_count": null,
   "metadata": {},
   "outputs": [],
   "source": [
    "# Chuẩn hóa dữ liệu\n",
    "def scaler(df, time_steps):\n",
    "    scaler = MinMaxScaler()\n",
    "    X = df[['Tổng lưu lượng xả (m³/s)[Thực tế]', 'Lưu lượng đến hồ (m³/s)', 'Sum_Mua']]\n",
    "    y = df[['Lưu lượng đến hồ (m³/s)']]\n",
    "    X = scaler.fit_transform(X)\n",
    "    y = scaler.fit_transform(y)\n",
    "\n",
    "    # Tạo nhãn cho dữ liệu\n",
    "    X_data, y_data = create_dataset(X, y, time_steps)\n",
    "\n",
    "    return scaler, X_data, y_data"
   ]
  },
  {
   "cell_type": "code",
   "execution_count": null,
   "metadata": {},
   "outputs": [],
   "source": [
    "# Chuẩn hóa dữ liệu\n",
    "def split_data(X_data, y_data, time_steps):\n",
    "    # Chia dữ liệu thành tập huấn luyện, kiểm tra và test\n",
    "    train_length = int(len(X_data) * 0.7)\n",
    "    val_length = int((len(X_data) - train_length) / 2)\n",
    "\n",
    "    X_train, y_train = X_data[:train_length], y_data[:train_length]\n",
    "    X_val, y_val = X_data[train_length:train_length+val_length], y_data[train_length:train_length+val_length]\n",
    "    X_test, y_test = X_data[-val_length:], y_data[-val_length:]\n",
    "\n",
    "    # Reshape dữ liệu đầu vào\n",
    "    X_train = X_train.reshape(X_train.shape[0], time_steps, X_train.shape[2])\n",
    "    X_val = X_val.reshape(X_val.shape[0], time_steps, X_val.shape[2])\n",
    "    X_test = X_test.reshape(X_test.shape[0], time_steps, X_test.shape[2])\n",
    "\n",
    "    print(\"Kích thước tập huấn luyện:\", len(X_train))\n",
    "    print(\"Kích thước tập validation:\", len(X_val))\n",
    "    print(\"Kích thước tập kiểm tra:\", len(X_test))\n",
    "\n",
    "    return X_train, y_train, X_val, y_val, X_test, y_test"
   ]
  },
  {
   "cell_type": "markdown",
   "metadata": {},
   "source": [
    "# Xây dựng các mô hình"
   ]
  },
  {
   "cell_type": "code",
   "execution_count": null,
   "metadata": {},
   "outputs": [],
   "source": [
    "# Tạo mô hình RNN\n",
    "def model_rnn(input_shape):\n",
    "    model = Sequential([\n",
    "        SimpleRNN(32, input_shape=input_shape, activation='tanh', return_sequences=False),\n",
    "        Dropout(0.5),\n",
    "        Dense(1, activation='sigmoid')])\n",
    "    return model\n",
    "\n",
    "# Tạo mô hình LSTM\n",
    "def model_lstm(input_shape):\n",
    "    model = Sequential()\n",
    "    model.add(LSTM(32, input_shape=input_shape, activation='tanh', return_sequences=False))\n",
    "    model.add(Dropout(0.5))\n",
    "    model.add(Dense(1, activation='sigmoid'))\n",
    "    return model\n",
    "\n",
    "# Tạo mô hình BiLSTM\n",
    "def model_bilstm(input_shape):\n",
    "    model = Sequential()\n",
    "    model.add(Bidirectional(LSTM(32, input_shape=input_shape, activation='tanh', return_sequences=False)))\n",
    "    model.add(Dropout(0.5))\n",
    "    model.add(Dense(1, activation='sigmoid'))\n",
    "    return model\n",
    "\n",
    "# Tạo mô hình GRU\n",
    "def model_gru(input_shape):\n",
    "    model = Sequential()\n",
    "    model.add(GRU(32, input_shape=input_shape, activation='tanh', return_sequences=False))\n",
    "    model.add(Dropout(0.5))\n",
    "    model.add(Dense(1, activation='sigmoid'))\n",
    "    return model"
   ]
  },
  {
   "cell_type": "code",
   "execution_count": null,
   "metadata": {},
   "outputs": [],
   "source": [
    "def train_model(model, X_train, y_train, X_val, y_val, epochs, batch_size, save_best_model):\n",
    "    # Compile mô hình\n",
    "    model.compile(optimizer=Adam(learning_rate=1e-3), loss='mean_squared_error')\n",
    "\n",
    "    # Lưu lại model tốt nhất\n",
    "    model_checkpoint = ModelCheckpoint(save_best_model, save_best_only=True, monitor='val_loss', mode='min', verbose=1)\n",
    "\n",
    "    # Train the model\n",
    "    history = model.fit(X_train, y_train, \n",
    "                        epochs=epochs,\n",
    "                        batch_size=batch_size,\n",
    "                        validation_data=(X_val, y_val),\n",
    "                        verbose=1,\n",
    "                        callbacks=model_checkpoint)\n",
    "    \n",
    "    return model, history"
   ]
  },
  {
   "cell_type": "code",
   "execution_count": null,
   "metadata": {},
   "outputs": [],
   "source": [
    "import matplotlib.pyplot as plt\n",
    "\n",
    "def plot_loss_model(history):\n",
    "    # Trích xuất giá trị loss trên tập huấn luyện và kiểm tra\n",
    "    train_loss = history.history['loss']\n",
    "    val_loss = history.history['val_loss']\n",
    "\n",
    "    # Vẽ biểu đồ\n",
    "    plt.plot(train_loss, marker='.', linestyle='-')\n",
    "    plt.plot(val_loss, marker='', linestyle='-')\n",
    "    plt.xlabel('Epoch')\n",
    "    plt.ylabel('Validation Loss')\n",
    "    plt.title('Validation Loss over Epochs')\n",
    "    plt.yscale('log')  # Scale y-axis to logarithmic scale\n",
    "    plt.show()"
   ]
  },
  {
   "cell_type": "markdown",
   "metadata": {},
   "source": [
    "# Dự đoán trên tập kiểm tra và tính toán các chỉ số"
   ]
  },
  {
   "cell_type": "code",
   "execution_count": null,
   "metadata": {},
   "outputs": [],
   "source": [
    "def evaluate(model, X_test, y_test):\n",
    "    # Dự đoán trên tập validation\n",
    "    y_pred = model.predict(X_test)\n",
    "\n",
    "    # Calculate evaluation metrics\n",
    "    mse_test = mean_squared_error(y_test, y_pred)\n",
    "    mae_test = mean_absolute_error(y_test, y_pred)\n",
    "    r2_test = r2_score(y_test, y_pred)\n",
    "    rmse_test = sqrt(mse_test)\n",
    "    rmae_test = sqrt(mae_test)\n",
    "\n",
    "    # Print evaluation results\n",
    "    print(\"Mean Squared Error (MSE) on test set:\", mse_test)\n",
    "    print(\"Mean Absolute Error (MAE) on test set:\", mae_test)\n",
    "    print(\"R-squared (R2) on test set:\", r2_test)\n",
    "    print(\"Root Mean Squared Error (RMSE) on test set:\", rmse_test)\n",
    "    print(\"Root Mean Absolute Error (RMAE) on test set:\", rmae_test)\n",
    "\n",
    "    return y_pred, r2_test"
   ]
  },
  {
   "cell_type": "markdown",
   "metadata": {},
   "source": [
    "# Hiển thị biểu đồ kết quả"
   ]
  },
  {
   "cell_type": "code",
   "execution_count": null,
   "metadata": {},
   "outputs": [],
   "source": [
    "# Khôi phục dữ liệu sau chuẩn hóa\n",
    "def inverse_transform_data(scaler, y_pred, y_test):\n",
    "    y_pred_predict = scaler.inverse_transform(y_pred)\n",
    "    y_pred_predict = pd.DataFrame(y_pred_predict)\n",
    "\n",
    "    y_test = scaler.inverse_transform(y_test)\n",
    "    y_test = pd.DataFrame(y_test)\n",
    "\n",
    "    return y_pred_predict, y_test"
   ]
  },
  {
   "cell_type": "code",
   "execution_count": null,
   "metadata": {},
   "outputs": [],
   "source": [
    "def plot_data_goc(df):\n",
    "    # Vẽ biểu đồ dữ liệu gốc\n",
    "    plt.figure(figsize=(15, 6))\n",
    "    plt.plot(df['thoi_gian_KaNak'], df['Tổng lưu lượng xả (m³/s)[Thực tế]'], label='Tổng lưu lượng xả')\n",
    "    plt.plot(df['thoi_gian_KaNak'], df['Lưu lượng đến hồ (m³/s)'], label='Lưu lượng đến hồ')\n",
    "    plt.plot(df['thoi_gian_KaNak'], df['Sum_Mua'], label='Tổng lượng mưa')\n",
    "    plt.xlabel('Thời gian')\n",
    "    plt.ylabel('Lưu lượng (m³/s)')\n",
    "    plt.title('Biểu đồ lưu lượng')\n",
    "    plt.legend()\n",
    "    plt.show()\n",
    "\n",
    "def plot_data_predict(y_test, y_pred_predict):\n",
    "    # Biểu đồ giá trị dự đoán và thực tế trên tập test\n",
    "    plt.figure(figsize=(15, 6))\n",
    "    plt.plot(y_test, label='Lưu lượng đến hồ thực tế')\n",
    "    plt.plot(y_pred_predict, label='Lưu lượng đến hồ dự đoán')\n",
    "    plt.xlabel('Thời gian')\n",
    "    plt.ylabel('Lưu lượng đến hồ (m³/s)')\n",
    "    plt.title('So sánh giá trị dự đoán và giá trị thực tế trên tập kiểm tra')\n",
    "    plt.legend()\n",
    "    plt.show()\n",
    "\n",
    "def plot_bat_thuong_test(y_test, y_pred_predict):\n",
    "    # Biểu đồ giá trị dự đoán và giá trị thực tế ở điểm bất thường trên tập test\n",
    "    plt.figure(figsize=(15, 6))\n",
    "    plt.plot(y_test, label='Lưu lượng đến hồ thực tế')\n",
    "    plt.plot(y_pred_predict, label='Lưu lượng đến hồ dự đoán')\n",
    "    plt.xlabel('Thời gian')\n",
    "    plt.ylabel('Lưu lượng đến hồ (m³/s)')\n",
    "    plt.title('So sánh giá trị dự đoán và giá trị thực tế trên tập kiểm tra')\n",
    "    plt.legend()\n",
    "\n",
    "    # Chỉ hiển thị một đoạn nhỏ của biểu đồ\n",
    "    start_index = 0\n",
    "    end_index = 1000\n",
    "    plt.xlim(start_index, end_index)\n",
    "    plt.show() \n",
    "\n",
    "def plot_data_chi_dinh(scaler, model, X_train, y_train):\n",
    "    X_data_slipt = X_train[15290:17980]\n",
    "    y_data_slipt = y_train[15290:17980]\n",
    "\n",
    "    # Dự đoán trên đoạn dữ liệu chỉ định\n",
    "    y_data_slipt_predict = model.predict(X_data_slipt)\n",
    "\n",
    "    # Khôi phục dữ liệu sau chuẩn hóa\n",
    "    y_data_slipt_predict = scaler.inverse_transform(y_data_slipt_predict)\n",
    "    y_data_slipt_predict = pd.DataFrame(y_data_slipt_predict)\n",
    "    y_data_slipt = scaler.inverse_transform(y_data_slipt)\n",
    "    y_data_slipt = pd.DataFrame(y_data_slipt)\n",
    "\n",
    "    # Biểu đồ giá trị dự đoán và giá trị thực tế trên đoạn dữ liệu gốc bất kỳ\n",
    "    plt.figure(figsize=(15, 6))\n",
    "    plt.plot(y_data_slipt, label='Lưu lượng đến hồ thực tế')\n",
    "    plt.plot(y_data_slipt_predict, label='Lưu lượng đến hồ dự đoán')\n",
    "    plt.xlabel('Thời gian')\n",
    "    plt.ylabel('Lưu lượng đến hồ (m³/s)')\n",
    "    plt.title('So sánh giá trị dự đoán và giá trị thực tế trên tập kiểm tra')\n",
    "    plt.legend()\n",
    "    plt.show()"
   ]
  },
  {
   "cell_type": "markdown",
   "metadata": {},
   "source": [
    "# Chạy mô hình"
   ]
  },
  {
   "cell_type": "code",
   "execution_count": null,
   "metadata": {},
   "outputs": [],
   "source": [
    "# Các tham số cho mô hình\n",
    "time_steps = 24 * 3\n",
    "epochs = 5\n",
    "batch_size = 24\n",
    "\n",
    "# Chuẩn hóa dữ liệu\n",
    "scaler_t_2, X_data_t_2, y_data_t_2 = scaler(df_t_2, time_steps)\n",
    "scaler_t_4, X_data_t_4, y_data_t_4 = scaler(df_t_4, time_steps)\n",
    "scaler_t_6, X_data_t_6, y_data_t_6 = scaler(df_t_6, time_steps)\n",
    "\n",
    "# Chia dữ liệu\n",
    "print(\"Data cách 2 giờ\")\n",
    "X_train_t_2, y_train_t_2, X_val_t_2, y_val_t_2, X_test_t_2, y_test_t_2 = split_data(X_data_t_2, y_data_t_2, time_steps)\n",
    "print()\n",
    "print(\"Data cách 4 giờ\")\n",
    "X_train_t_4, y_train_t_4, X_val_t_4, y_val_t_4, X_test_t_4, y_test_t_4 = split_data(X_data_t_4, y_data_t_4, time_steps)\n",
    "print()\n",
    "print(\"Data cách 6 giờ\")\n",
    "X_train_t_6, y_train_t_6, X_val_t_6, y_val_t_6, X_test_t_6, y_test_t_6 = split_data(X_data_t_6, y_data_t_6, time_steps)"
   ]
  },
  {
   "cell_type": "code",
   "execution_count": null,
   "metadata": {},
   "outputs": [],
   "source": [
    "# Đầu vào cho các mô hình\n",
    "input_shape = (X_train_t_2.shape[1], X_train_t_2.shape[2])\n",
    "\n",
    "# Khởi tạo các mô hình\n",
    "rnn_model = model_rnn(input_shape)\n",
    "lstm_model = model_lstm(input_shape)\n",
    "bilstm_model = model_bilstm(input_shape)\n",
    "gru_model = model_gru(input_shape)\n",
    "total_model = [rnn_model, lstm_model, bilstm_model, gru_model]"
   ]
  },
  {
   "cell_type": "code",
   "execution_count": null,
   "metadata": {},
   "outputs": [],
   "source": [
    "r2_t_2_model = []\n",
    "r2_t_4_model = []\n",
    "r2_t_6_model = []\n",
    "\n",
    "for i in range(len(total_model)):\n",
    "    if i == 0:\n",
    "        name_model = \"RNN\"\n",
    "    elif i == 1:\n",
    "        name_model = \"LSTM\"\n",
    "    elif i == 2:\n",
    "        name_model = \"BiLSTM\"\n",
    "    elif i == 3:\n",
    "        name_model = \"GRU\"\n",
    "    \n",
    "    # Lưu mô hình tốt nhất\n",
    "    save_best_model_t_2 = f'./best_model_v2/Model_{name_model}_t-2.hdf5'\n",
    "    save_best_model_t_4 = f'./best_model_v2/Model_{name_model}_t-4.hdf5'\n",
    "    save_best_model_t_6 = f'./best_model_v2/Model_{name_model}_t-6.hdf5'\n",
    "    \n",
    "    # Gọi mô hình\n",
    "    model = total_model[i]\n",
    "    print(f\"MÔ HÌNH {name_model}\")\n",
    "    print()\n",
    "\n",
    "    # Training mô hình\n",
    "    print(f\"Training mô hình {name_model} với data cách 2 giờ\")\n",
    "    model_t_2, history_t_2 = train_model(model, X_train_t_2, y_train_t_2, X_val_t_2, y_val_t_2, \n",
    "                                        epochs, batch_size, save_best_model_t_2)\n",
    "    print(f\"Training mô hình {name_model} với data cách 4 giờ\")\n",
    "    model_t_4, history_t_4 = train_model(model, X_train_t_4, y_train_t_4, X_val_t_4, y_val_t_4, \n",
    "                                        epochs, batch_size, save_best_model_t_4)\n",
    "    print(f\"Training mô hình {name_model} với data cách 6 giờ\")\n",
    "    model_t_6, history_t_6 = train_model(model, X_train_t_6, y_train_t_6, X_val_t_6, y_val_t_6, \n",
    "                                        epochs, batch_size, save_best_model_t_6)\n",
    "    print()\n",
    "\n",
    "    # Vẽ biểu đồ train_loss và val_loss\n",
    "    # Đánh giá mô hình trên tập test\n",
    "    print(f\"Train loss và Val loss của mô hình {name_model} với data cách 2 giờ\")\n",
    "    plot_loss_model(history_t_2)\n",
    "    print(f\"Đánh giá mô hình {name_model} với data cách 2 giờ\")\n",
    "    y_pred_t_2, r2_t_2 = evaluate(model_t_2, X_test_t_2, y_test_t_2)\n",
    "    r2_t_2_model.append(r2_t_2)\n",
    "    print()\n",
    "\n",
    "    print(f\"Train loss và Val loss của mô hình {name_model} với data cách 4 giờ\")\n",
    "    plot_loss_model(history_t_4)\n",
    "    print(f\"Đánh giá mô hình {name_model} với data cách 4 giờ\")\n",
    "    y_pred_t_4, r2_t_4 = evaluate(model_t_4, X_test_t_4, y_test_t_4)\n",
    "    r2_t_4_model.append(r2_t_4)\n",
    "    print()\n",
    "\n",
    "    print(f\"Train loss và Val loss của mô hình {name_model} với data cách 6 giờ\")\n",
    "    plot_loss_model(history_t_6)\n",
    "    print(f\"Đánh giá mô hình {name_model} với data cách 6 giờ\")\n",
    "    y_pred_t_6, r2_t_6 = evaluate(model_t_6, X_test_t_6, y_test_t_6)\n",
    "    r2_t_6_model.append(r2_t_6)\n",
    "    print()\n",
    "\n",
    "    # Chuẩn hóa lại dữ liệu sau để vẽ mô hình\n",
    "    y_pred_predict_t_2, y_test_t_2 = inverse_transform_data(scaler_t_2, y_pred_t_2, y_test_t_2)\n",
    "    y_pred_predict_t_4, y_test_t_4 = inverse_transform_data(scaler_t_4, y_pred_t_4, y_test_t_4)\n",
    "    y_pred_predict_t_6, y_test_t_6 = inverse_transform_data(scaler_t_6, y_pred_t_6, y_test_t_6)\n",
    "\n",
    "    # Biểu đồ giá trị dự đoán và thực tế trên tập test\n",
    "    print(f\"Dữ liệu dự đoán trên tập test của mô hình {name_model} với data cách 2 giờ\")\n",
    "    plot_data_predict(y_test_t_2, y_pred_predict_t_2)\n",
    "    print(f\"Dữ liệu dự đoán trên tập test của mô hình {name_model} với data cách 4 giờ\")\n",
    "    plot_data_predict(y_test_t_4, y_pred_predict_t_4)\n",
    "    print(f\"Dữ liệu dự đoán trên tập test của mô hình {name_model} với data cách 6 giờ\")\n",
    "    plot_data_predict(y_test_t_6, y_pred_predict_t_6)\n",
    "    print()\n",
    "\n",
    "    # Biểu đồ giá trị dự đoán và giá trị thực tế ở điểm bất thường trên tập test\n",
    "    print(f\"Dự đoán dữ liệu bất thường trên tập test của mô hình {name_model} với dữ liệu cách 2 giờ\")\n",
    "    plot_bat_thuong_test(y_test_t_2, y_pred_predict_t_2)\n",
    "    print(f\"Dự đoán dữ liệu bất thường trên tập test của mô hình {name_model} với dữ liệu cách 4 giờ\")\n",
    "    plot_bat_thuong_test(y_test_t_4, y_pred_predict_t_4)\n",
    "    print(f\"Dự đoán dữ liệu bất thường trên tập test của mô hình {name_model} với dữ liệu cách 6 giờ\")\n",
    "    plot_bat_thuong_test(y_test_t_6, y_pred_predict_t_6)\n",
    "    print()\n",
    "\n",
    "    # Vẽ biểu đồ tại điểm bất thường trên dữ liệu gốc\n",
    "    print(f\"Điểm bất thường trên dữ liệu gốc của mô hình {name_model} cách 2 giờ\")\n",
    "    plot_data_chi_dinh(scaler_t_2, model_t_2, X_train_t_2, y_train_t_2)\n",
    "    print(f\"Điểm bất thường trên dữ liệu gốc của mô hình {name_model} cách 4 giờ\")\n",
    "    plot_data_chi_dinh(scaler_t_4, model_t_4, X_train_t_4, y_train_t_4)\n",
    "    print(f\"Điểm bất thường trên dữ liệu gốc của mô hình {name_model} cách 6 giờ\")\n",
    "    plot_data_chi_dinh(scaler_t_6, model_t_6, X_train_t_6, y_train_t_6)\n",
    "    print()"
   ]
  },
  {
   "cell_type": "markdown",
   "metadata": {},
   "source": [
    "### So sánh tìm mô hình tốt nhất"
   ]
  },
  {
   "cell_type": "code",
   "execution_count": null,
   "metadata": {},
   "outputs": [],
   "source": [
    "def best_model_r2(r2_model):\n",
    "    max_value = max(r2_model)\n",
    "\n",
    "    # Tìm vị trí của giá trị lớn nhất\n",
    "    max_index = r2_model.index(max_value)\n",
    "\n",
    "    if max_index == 0:\n",
    "        name_model = \"RNN\"\n",
    "    elif max_index == 1:\n",
    "        name_model = \"LSTM\"\n",
    "    elif max_index == 2:\n",
    "        name_model = \"BiLSTM\"\n",
    "    elif max_index == 3:\n",
    "        name_model = \"GRU\"\n",
    "\n",
    "    print(f\"R2 tốt nhất là: {max_value}\")\n",
    "    print(f\"Mô hình tốt nhất là: {name_model}\")"
   ]
  },
  {
   "cell_type": "code",
   "execution_count": null,
   "metadata": {},
   "outputs": [],
   "source": [
    "best_model_r2(r2_t_2_model)\n",
    "best_model_r2(r2_t_4_model)\n",
    "best_model_r2(r2_t_6_model)"
   ]
  }
 ],
 "metadata": {
  "kernelspec": {
   "display_name": "Python 3",
   "language": "python",
   "name": "python3"
  },
  "language_info": {
   "codemirror_mode": {
    "name": "ipython",
    "version": 3
   },
   "file_extension": ".py",
   "mimetype": "text/x-python",
   "name": "python",
   "nbconvert_exporter": "python",
   "pygments_lexer": "ipython3",
   "version": "3.9.10"
  }
 },
 "nbformat": 4,
 "nbformat_minor": 2
}
